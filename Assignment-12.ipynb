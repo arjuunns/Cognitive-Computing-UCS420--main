{
 "cells": [
  {
   "cell_type": "code",
   "execution_count": null,
   "id": "781b9857",
   "metadata": {},
   "outputs": [],
   "source": [
    "\n",
    "!git clone https://github.com/gunthercox/ChatterBot.git\n",
    "%cd ChatterBot\n",
    "!pip install -e .\n",
    "!pip install chatterbot\n",
    "from chatterbot import ChatBot\n",
    "from chatterbot.trainers import ListTrainer\n",
    "\n",
    "print(\"ChatterBot is working on Colab!\")"
   ]
  },
  {
   "cell_type": "code",
   "execution_count": null,
   "id": "9b98d9bf",
   "metadata": {},
   "outputs": [],
   "source": [
    "trainer = ListTrainer(healthify)\n",
    "conversations = [\n",
    "    'Hi',\n",
    "    'Hello! I am HealthBot. How can I assist you today?',\n",
    "    'Hello',\n",
    "    'Hi! Do you have a health-related question?',\n",
    "    'I have a headache',\n",
    "    'You should rest, stay hydrated, and take a mild pain reliever if needed.',\n",
    "    'What should I do if I have a fever?',\n",
    "    'Drink plenty of fluids and rest. If the fever persists, please consult a doctor.',\n",
    "    'I feel dizzy',\n",
    "    'Sit down, breathe deeply, and drink water. If it continues, seek medical help.',\n",
    "    'What should I eat for a cold?',\n",
    "    'Warm fluids, soups, citrus fruits, and light meals help during a cold.',\n",
    "    'How to stay healthy?',\n",
    "    'Eat balanced meals, exercise regularly, stay hydrated, and get enough sleep.',\n",
    "    'What should I do in case of a cut?',\n",
    "    'Clean the wound with water, apply antiseptic, and cover it with a clean bandage.',\n",
    "    'How much water should I drink daily?',\n",
    "    'Generally, 2 to 3 liters per day is recommended, but it varies based on your activity.',\n",
    "    'Thank you',\n",
    "    'You’re welcome! Take care.',\n",
    "    'Bye',\n",
    "    'Goodbye! Stay healthy.'\n",
    "]"
   ]
  },
  {
   "cell_type": "code",
   "execution_count": null,
   "id": "41c463ec",
   "metadata": {},
   "outputs": [],
   "source": [
    "print(\"Ask something to Healthify (type 'exit' to end):\\n\")\n",
    "while True:\n",
    "    user_input = input(\"You: \")\n",
    "    if user_input.lower() == 'exit':\n",
    "        print(\"Healthify: Bye! Stay healthy.\")\n",
    "        break\n",
    "    response = healthify.get_response(user_input)\n",
    "    print(f\"Healthify: {response}\")"
   ]
  },
  {
   "cell_type": "code",
   "execution_count": null,
   "id": "617dffc7",
   "metadata": {},
   "outputs": [],
   "source": [
    "!pip install textblob\n",
    "import nltk\n",
    "nltk.download('punkt')\n",
    "from textblob import TextBlob\n",
    "\n",
    "print(\"Ask something to Healthify (type 'exit' to end):\\n\")\n",
    "while True:\n",
    "    user_input = input(\"You: \")\n",
    "    if user_input.lower() == 'exit':\n",
    "        print(\"Healthify: Bye! Stay healthy.\")\n",
    "        break\n",
    "\n",
    "    # Analyze sentiment\n",
    "    blob = TextBlob(user_input)\n",
    "    polarity = blob.sentiment.polarity\n",
    "\n",
    "    # Add empathetic response based on sentiment\n",
    "    if polarity < -0.3:\n",
    "        prefix = \"I'm sorry you're feeling that way. \"\n",
    "    elif polarity > 0.3:\n",
    "        prefix = \"That's great to hear! \"\n",
    "    else:\n",
    "        prefix = \"\"\n",
    "\n",
    "    # Get chatbot reply\n",
    "    response = healthify.get_response(user_input)\n"
   ]
  }
 ],
 "metadata": {
  "kernelspec": {
   "display_name": "base",
   "language": "python",
   "name": "python3"
  },
  "language_info": {
   "codemirror_mode": {
    "name": "ipython",
    "version": 3
   },
   "file_extension": ".py",
   "mimetype": "text/x-python",
   "name": "python",
   "nbconvert_exporter": "python",
   "pygments_lexer": "ipython3",
   "version": "3.12.7"
  }
 },
 "nbformat": 4,
 "nbformat_minor": 5
}
